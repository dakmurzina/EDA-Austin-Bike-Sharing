{
 "cells": [
  {
   "cell_type": "code",
   "execution_count": 1,
   "metadata": {
    "collapsed": true
   },
   "outputs": [
    {
     "data": {
      "text/plain": "   station_id                             name  status             address  \\\n0        2541  State Capitol @ 14th & Colorado  closed     206 W. 14th St.   \n1        2538  Bullock Museum @ Congress & MLK  closed  1881 Congress Ave.   \n2        2545          ACC - Rio Grande & 12th  closed     700 W. 12th St.   \n3        2546         ACC - West & 12th Street  closed      1231 West Ave.   \n4        2564                 5th & San Marcos  closed        991 East 5th   \n\n  alternate_name  city_asset_number property_type  number_of_docks power_type  \\\n0            NaN                NaN           NaN              NaN        NaN   \n1            NaN                NaN           NaN              NaN        NaN   \n2            NaN                NaN           NaN              NaN        NaN   \n3            NaN                NaN           NaN              NaN        NaN   \n4            NaN                NaN           NaN              NaN        NaN   \n\n   footprint_length  footprint_width notes  council_district  \\\n0               NaN              NaN   NaN                 1   \n1               NaN              NaN   NaN                 1   \n2               NaN              NaN   NaN                 9   \n3               NaN              NaN   NaN                 9   \n4               NaN              NaN   NaN                 3   \n\n                    modified_date  \n0  2021-01-04 12:00:00.000000 UTC  \n1  2021-01-04 12:00:00.000000 UTC  \n2  2021-01-04 12:00:00.000000 UTC  \n3  2021-01-04 12:00:00.000000 UTC  \n4  2021-01-04 12:00:00.000000 UTC  ",
      "text/html": "<div>\n<style scoped>\n    .dataframe tbody tr th:only-of-type {\n        vertical-align: middle;\n    }\n\n    .dataframe tbody tr th {\n        vertical-align: top;\n    }\n\n    .dataframe thead th {\n        text-align: right;\n    }\n</style>\n<table border=\"1\" class=\"dataframe\">\n  <thead>\n    <tr style=\"text-align: right;\">\n      <th></th>\n      <th>station_id</th>\n      <th>name</th>\n      <th>status</th>\n      <th>address</th>\n      <th>alternate_name</th>\n      <th>city_asset_number</th>\n      <th>property_type</th>\n      <th>number_of_docks</th>\n      <th>power_type</th>\n      <th>footprint_length</th>\n      <th>footprint_width</th>\n      <th>notes</th>\n      <th>council_district</th>\n      <th>modified_date</th>\n    </tr>\n  </thead>\n  <tbody>\n    <tr>\n      <th>0</th>\n      <td>2541</td>\n      <td>State Capitol @ 14th &amp; Colorado</td>\n      <td>closed</td>\n      <td>206 W. 14th St.</td>\n      <td>NaN</td>\n      <td>NaN</td>\n      <td>NaN</td>\n      <td>NaN</td>\n      <td>NaN</td>\n      <td>NaN</td>\n      <td>NaN</td>\n      <td>NaN</td>\n      <td>1</td>\n      <td>2021-01-04 12:00:00.000000 UTC</td>\n    </tr>\n    <tr>\n      <th>1</th>\n      <td>2538</td>\n      <td>Bullock Museum @ Congress &amp; MLK</td>\n      <td>closed</td>\n      <td>1881 Congress Ave.</td>\n      <td>NaN</td>\n      <td>NaN</td>\n      <td>NaN</td>\n      <td>NaN</td>\n      <td>NaN</td>\n      <td>NaN</td>\n      <td>NaN</td>\n      <td>NaN</td>\n      <td>1</td>\n      <td>2021-01-04 12:00:00.000000 UTC</td>\n    </tr>\n    <tr>\n      <th>2</th>\n      <td>2545</td>\n      <td>ACC - Rio Grande &amp; 12th</td>\n      <td>closed</td>\n      <td>700 W. 12th St.</td>\n      <td>NaN</td>\n      <td>NaN</td>\n      <td>NaN</td>\n      <td>NaN</td>\n      <td>NaN</td>\n      <td>NaN</td>\n      <td>NaN</td>\n      <td>NaN</td>\n      <td>9</td>\n      <td>2021-01-04 12:00:00.000000 UTC</td>\n    </tr>\n    <tr>\n      <th>3</th>\n      <td>2546</td>\n      <td>ACC - West &amp; 12th Street</td>\n      <td>closed</td>\n      <td>1231 West Ave.</td>\n      <td>NaN</td>\n      <td>NaN</td>\n      <td>NaN</td>\n      <td>NaN</td>\n      <td>NaN</td>\n      <td>NaN</td>\n      <td>NaN</td>\n      <td>NaN</td>\n      <td>9</td>\n      <td>2021-01-04 12:00:00.000000 UTC</td>\n    </tr>\n    <tr>\n      <th>4</th>\n      <td>2564</td>\n      <td>5th &amp; San Marcos</td>\n      <td>closed</td>\n      <td>991 East 5th</td>\n      <td>NaN</td>\n      <td>NaN</td>\n      <td>NaN</td>\n      <td>NaN</td>\n      <td>NaN</td>\n      <td>NaN</td>\n      <td>NaN</td>\n      <td>NaN</td>\n      <td>3</td>\n      <td>2021-01-04 12:00:00.000000 UTC</td>\n    </tr>\n  </tbody>\n</table>\n</div>"
     },
     "execution_count": 1,
     "metadata": {},
     "output_type": "execute_result"
    }
   ],
   "source": [
    "import pandas as pd\n",
    "\n",
    "stations = pd.read_csv(\"data/bikeshare_stations.csv\")\n",
    "stations.head()"
   ]
  },
  {
   "cell_type": "code",
   "execution_count": 2,
   "outputs": [
    {
     "data": {
      "text/plain": "      trip_id                     subscriber_type  bikeid  \\\n0  9900285908  Annual Membership (Austin B-cycle)     400   \n1  9900289692                             Walk Up     248   \n2  9900285987      24-Hour Kiosk (Austin B-cycle)     446   \n3  9900285989      24-Hour Kiosk (Austin B-cycle)     203   \n4  9900285991      24-Hour Kiosk (Austin B-cycle)     101   \n\n            start_time  start_station_id  \\\n0  26/10/2014 14:12:00              2823   \n1  02/10/2015 21:12:01              1006   \n2  26/10/2014 15:12:00              2712   \n3  26/10/2014 15:12:00              2712   \n4  26/10/2014 15:12:00              2712   \n\n                        start_station_name  end_station_id  \\\n0  Capital Metro HQ - East 5th at Broadway            2544   \n1                         Zilker Park West            1008   \n2                  Toomey Rd @ South Lamar            2712   \n3                  Toomey Rd @ South Lamar            2712   \n4                  Toomey Rd @ South Lamar            2712   \n\n            end_station_name  duration_minutes  \n0  East 6th & Pedernales St.                10  \n1               Nueces @ 3rd                39  \n2    Toomey Rd @ South Lamar                31  \n3    Toomey Rd @ South Lamar                31  \n4    Toomey Rd @ South Lamar                30  ",
      "text/html": "<div>\n<style scoped>\n    .dataframe tbody tr th:only-of-type {\n        vertical-align: middle;\n    }\n\n    .dataframe tbody tr th {\n        vertical-align: top;\n    }\n\n    .dataframe thead th {\n        text-align: right;\n    }\n</style>\n<table border=\"1\" class=\"dataframe\">\n  <thead>\n    <tr style=\"text-align: right;\">\n      <th></th>\n      <th>trip_id</th>\n      <th>subscriber_type</th>\n      <th>bikeid</th>\n      <th>start_time</th>\n      <th>start_station_id</th>\n      <th>start_station_name</th>\n      <th>end_station_id</th>\n      <th>end_station_name</th>\n      <th>duration_minutes</th>\n    </tr>\n  </thead>\n  <tbody>\n    <tr>\n      <th>0</th>\n      <td>9900285908</td>\n      <td>Annual Membership (Austin B-cycle)</td>\n      <td>400</td>\n      <td>26/10/2014 14:12:00</td>\n      <td>2823</td>\n      <td>Capital Metro HQ - East 5th at Broadway</td>\n      <td>2544</td>\n      <td>East 6th &amp; Pedernales St.</td>\n      <td>10</td>\n    </tr>\n    <tr>\n      <th>1</th>\n      <td>9900289692</td>\n      <td>Walk Up</td>\n      <td>248</td>\n      <td>02/10/2015 21:12:01</td>\n      <td>1006</td>\n      <td>Zilker Park West</td>\n      <td>1008</td>\n      <td>Nueces @ 3rd</td>\n      <td>39</td>\n    </tr>\n    <tr>\n      <th>2</th>\n      <td>9900285987</td>\n      <td>24-Hour Kiosk (Austin B-cycle)</td>\n      <td>446</td>\n      <td>26/10/2014 15:12:00</td>\n      <td>2712</td>\n      <td>Toomey Rd @ South Lamar</td>\n      <td>2712</td>\n      <td>Toomey Rd @ South Lamar</td>\n      <td>31</td>\n    </tr>\n    <tr>\n      <th>3</th>\n      <td>9900285989</td>\n      <td>24-Hour Kiosk (Austin B-cycle)</td>\n      <td>203</td>\n      <td>26/10/2014 15:12:00</td>\n      <td>2712</td>\n      <td>Toomey Rd @ South Lamar</td>\n      <td>2712</td>\n      <td>Toomey Rd @ South Lamar</td>\n      <td>31</td>\n    </tr>\n    <tr>\n      <th>4</th>\n      <td>9900285991</td>\n      <td>24-Hour Kiosk (Austin B-cycle)</td>\n      <td>101</td>\n      <td>26/10/2014 15:12:00</td>\n      <td>2712</td>\n      <td>Toomey Rd @ South Lamar</td>\n      <td>2712</td>\n      <td>Toomey Rd @ South Lamar</td>\n      <td>30</td>\n    </tr>\n  </tbody>\n</table>\n</div>"
     },
     "execution_count": 2,
     "metadata": {},
     "output_type": "execute_result"
    }
   ],
   "source": [
    "trips = pd.read_csv(\"data/bikeshare_trips.csv\")\n",
    "trips.head()"
   ],
   "metadata": {
    "collapsed": false
   }
  },
  {
   "cell_type": "code",
   "execution_count": null,
   "outputs": [],
   "source": [],
   "metadata": {
    "collapsed": false
   }
  }
 ],
 "metadata": {
  "kernelspec": {
   "display_name": "Python 3",
   "language": "python",
   "name": "python3"
  },
  "language_info": {
   "codemirror_mode": {
    "name": "ipython",
    "version": 2
   },
   "file_extension": ".py",
   "mimetype": "text/x-python",
   "name": "python",
   "nbconvert_exporter": "python",
   "pygments_lexer": "ipython2",
   "version": "2.7.6"
  }
 },
 "nbformat": 4,
 "nbformat_minor": 0
}
