{
 "cells": [
  {
   "cell_type": "code",
   "execution_count": 27,
   "metadata": {
    "collapsed": true
   },
   "outputs": [
    {
     "name": "stdout",
     "output_type": "stream",
     "text": [
      "(102, 14)\n"
     ]
    },
    {
     "data": {
      "text/html": [
       "<div>\n",
       "<style scoped>\n",
       "    .dataframe tbody tr th:only-of-type {\n",
       "        vertical-align: middle;\n",
       "    }\n",
       "\n",
       "    .dataframe tbody tr th {\n",
       "        vertical-align: top;\n",
       "    }\n",
       "\n",
       "    .dataframe thead th {\n",
       "        text-align: right;\n",
       "    }\n",
       "</style>\n",
       "<table border=\"1\" class=\"dataframe\">\n",
       "  <thead>\n",
       "    <tr style=\"text-align: right;\">\n",
       "      <th></th>\n",
       "      <th>station_id</th>\n",
       "      <th>name</th>\n",
       "      <th>status</th>\n",
       "      <th>address</th>\n",
       "      <th>alternate_name</th>\n",
       "      <th>city_asset_number</th>\n",
       "      <th>property_type</th>\n",
       "      <th>number_of_docks</th>\n",
       "      <th>power_type</th>\n",
       "      <th>footprint_length</th>\n",
       "      <th>footprint_width</th>\n",
       "      <th>notes</th>\n",
       "      <th>council_district</th>\n",
       "      <th>modified_date</th>\n",
       "    </tr>\n",
       "  </thead>\n",
       "  <tbody>\n",
       "    <tr>\n",
       "      <th>0</th>\n",
       "      <td>2541</td>\n",
       "      <td>State Capitol @ 14th &amp; Colorado</td>\n",
       "      <td>closed</td>\n",
       "      <td>206 W. 14th St.</td>\n",
       "      <td>NaN</td>\n",
       "      <td>NaN</td>\n",
       "      <td>NaN</td>\n",
       "      <td>NaN</td>\n",
       "      <td>NaN</td>\n",
       "      <td>NaN</td>\n",
       "      <td>NaN</td>\n",
       "      <td>NaN</td>\n",
       "      <td>1</td>\n",
       "      <td>2021-01-04 12:00:00.000000 UTC</td>\n",
       "    </tr>\n",
       "    <tr>\n",
       "      <th>1</th>\n",
       "      <td>2538</td>\n",
       "      <td>Bullock Museum @ Congress &amp; MLK</td>\n",
       "      <td>closed</td>\n",
       "      <td>1881 Congress Ave.</td>\n",
       "      <td>NaN</td>\n",
       "      <td>NaN</td>\n",
       "      <td>NaN</td>\n",
       "      <td>NaN</td>\n",
       "      <td>NaN</td>\n",
       "      <td>NaN</td>\n",
       "      <td>NaN</td>\n",
       "      <td>NaN</td>\n",
       "      <td>1</td>\n",
       "      <td>2021-01-04 12:00:00.000000 UTC</td>\n",
       "    </tr>\n",
       "    <tr>\n",
       "      <th>2</th>\n",
       "      <td>2545</td>\n",
       "      <td>ACC - Rio Grande &amp; 12th</td>\n",
       "      <td>closed</td>\n",
       "      <td>700 W. 12th St.</td>\n",
       "      <td>NaN</td>\n",
       "      <td>NaN</td>\n",
       "      <td>NaN</td>\n",
       "      <td>NaN</td>\n",
       "      <td>NaN</td>\n",
       "      <td>NaN</td>\n",
       "      <td>NaN</td>\n",
       "      <td>NaN</td>\n",
       "      <td>9</td>\n",
       "      <td>2021-01-04 12:00:00.000000 UTC</td>\n",
       "    </tr>\n",
       "    <tr>\n",
       "      <th>3</th>\n",
       "      <td>2546</td>\n",
       "      <td>ACC - West &amp; 12th Street</td>\n",
       "      <td>closed</td>\n",
       "      <td>1231 West Ave.</td>\n",
       "      <td>NaN</td>\n",
       "      <td>NaN</td>\n",
       "      <td>NaN</td>\n",
       "      <td>NaN</td>\n",
       "      <td>NaN</td>\n",
       "      <td>NaN</td>\n",
       "      <td>NaN</td>\n",
       "      <td>NaN</td>\n",
       "      <td>9</td>\n",
       "      <td>2021-01-04 12:00:00.000000 UTC</td>\n",
       "    </tr>\n",
       "    <tr>\n",
       "      <th>4</th>\n",
       "      <td>2564</td>\n",
       "      <td>5th &amp; San Marcos</td>\n",
       "      <td>closed</td>\n",
       "      <td>991 East 5th</td>\n",
       "      <td>NaN</td>\n",
       "      <td>NaN</td>\n",
       "      <td>NaN</td>\n",
       "      <td>NaN</td>\n",
       "      <td>NaN</td>\n",
       "      <td>NaN</td>\n",
       "      <td>NaN</td>\n",
       "      <td>NaN</td>\n",
       "      <td>3</td>\n",
       "      <td>2021-01-04 12:00:00.000000 UTC</td>\n",
       "    </tr>\n",
       "  </tbody>\n",
       "</table>\n",
       "</div>"
      ],
      "text/plain": [
       "   station_id                             name  status             address  \\\n",
       "0        2541  State Capitol @ 14th & Colorado  closed     206 W. 14th St.   \n",
       "1        2538  Bullock Museum @ Congress & MLK  closed  1881 Congress Ave.   \n",
       "2        2545          ACC - Rio Grande & 12th  closed     700 W. 12th St.   \n",
       "3        2546         ACC - West & 12th Street  closed      1231 West Ave.   \n",
       "4        2564                 5th & San Marcos  closed        991 East 5th   \n",
       "\n",
       "  alternate_name  city_asset_number property_type  number_of_docks power_type  \\\n",
       "0            NaN                NaN           NaN              NaN        NaN   \n",
       "1            NaN                NaN           NaN              NaN        NaN   \n",
       "2            NaN                NaN           NaN              NaN        NaN   \n",
       "3            NaN                NaN           NaN              NaN        NaN   \n",
       "4            NaN                NaN           NaN              NaN        NaN   \n",
       "\n",
       "   footprint_length  footprint_width notes  council_district  \\\n",
       "0               NaN              NaN   NaN                 1   \n",
       "1               NaN              NaN   NaN                 1   \n",
       "2               NaN              NaN   NaN                 9   \n",
       "3               NaN              NaN   NaN                 9   \n",
       "4               NaN              NaN   NaN                 3   \n",
       "\n",
       "                    modified_date  \n",
       "0  2021-01-04 12:00:00.000000 UTC  \n",
       "1  2021-01-04 12:00:00.000000 UTC  \n",
       "2  2021-01-04 12:00:00.000000 UTC  \n",
       "3  2021-01-04 12:00:00.000000 UTC  \n",
       "4  2021-01-04 12:00:00.000000 UTC  "
      ]
     },
     "execution_count": 27,
     "metadata": {},
     "output_type": "execute_result"
    }
   ],
   "source": [
    "import pandas as pd\n",
    "\n",
    "stations = pd.read_csv(\"data/bikeshare_stations.csv\")\n",
    "print(stations.shape)\n",
    "stations.head()"
   ]
  },
  {
   "cell_type": "code",
   "execution_count": 28,
   "metadata": {
    "collapsed": false
   },
   "outputs": [
    {
     "name": "stderr",
     "output_type": "stream",
     "text": [
      "C:\\Users\\magda\\AppData\\Local\\Temp\\ipykernel_31184\\1315705371.py:1: DtypeWarning: Columns (6) have mixed types. Specify dtype option on import or set low_memory=False.\n",
      "  trips = pd.read_csv(\"data/bikeshare_trips.csv\")\n"
     ]
    },
    {
     "name": "stdout",
     "output_type": "stream",
     "text": [
      "(1933055, 9)\n"
     ]
    },
    {
     "data": {
      "text/html": [
       "<div>\n",
       "<style scoped>\n",
       "    .dataframe tbody tr th:only-of-type {\n",
       "        vertical-align: middle;\n",
       "    }\n",
       "\n",
       "    .dataframe tbody tr th {\n",
       "        vertical-align: top;\n",
       "    }\n",
       "\n",
       "    .dataframe thead th {\n",
       "        text-align: right;\n",
       "    }\n",
       "</style>\n",
       "<table border=\"1\" class=\"dataframe\">\n",
       "  <thead>\n",
       "    <tr style=\"text-align: right;\">\n",
       "      <th></th>\n",
       "      <th>trip_id</th>\n",
       "      <th>subscriber_type</th>\n",
       "      <th>bikeid</th>\n",
       "      <th>start_time</th>\n",
       "      <th>start_station_id</th>\n",
       "      <th>start_station_name</th>\n",
       "      <th>end_station_id</th>\n",
       "      <th>end_station_name</th>\n",
       "      <th>duration_minutes</th>\n",
       "    </tr>\n",
       "  </thead>\n",
       "  <tbody>\n",
       "    <tr>\n",
       "      <th>0</th>\n",
       "      <td>9900285908</td>\n",
       "      <td>Annual Membership (Austin B-cycle)</td>\n",
       "      <td>400</td>\n",
       "      <td>2014-10-26 14:12:00 UTC</td>\n",
       "      <td>2823.0</td>\n",
       "      <td>Capital Metro HQ - East 5th at Broadway</td>\n",
       "      <td>2544</td>\n",
       "      <td>East 6th &amp; Pedernales St.</td>\n",
       "      <td>10</td>\n",
       "    </tr>\n",
       "    <tr>\n",
       "      <th>1</th>\n",
       "      <td>9900289692</td>\n",
       "      <td>Walk Up</td>\n",
       "      <td>248</td>\n",
       "      <td>2015-10-02 21:12:01 UTC</td>\n",
       "      <td>1006.0</td>\n",
       "      <td>Zilker Park West</td>\n",
       "      <td>1008</td>\n",
       "      <td>Nueces @ 3rd</td>\n",
       "      <td>39</td>\n",
       "    </tr>\n",
       "    <tr>\n",
       "      <th>2</th>\n",
       "      <td>9900285987</td>\n",
       "      <td>24-Hour Kiosk (Austin B-cycle)</td>\n",
       "      <td>446</td>\n",
       "      <td>2014-10-26 15:12:00 UTC</td>\n",
       "      <td>2712.0</td>\n",
       "      <td>Toomey Rd @ South Lamar</td>\n",
       "      <td>2712</td>\n",
       "      <td>Toomey Rd @ South Lamar</td>\n",
       "      <td>31</td>\n",
       "    </tr>\n",
       "    <tr>\n",
       "      <th>3</th>\n",
       "      <td>9900285989</td>\n",
       "      <td>24-Hour Kiosk (Austin B-cycle)</td>\n",
       "      <td>203</td>\n",
       "      <td>2014-10-26 15:12:00 UTC</td>\n",
       "      <td>2712.0</td>\n",
       "      <td>Toomey Rd @ South Lamar</td>\n",
       "      <td>2712</td>\n",
       "      <td>Toomey Rd @ South Lamar</td>\n",
       "      <td>31</td>\n",
       "    </tr>\n",
       "    <tr>\n",
       "      <th>4</th>\n",
       "      <td>9900285991</td>\n",
       "      <td>24-Hour Kiosk (Austin B-cycle)</td>\n",
       "      <td>101</td>\n",
       "      <td>2014-10-26 15:12:00 UTC</td>\n",
       "      <td>2712.0</td>\n",
       "      <td>Toomey Rd @ South Lamar</td>\n",
       "      <td>2712</td>\n",
       "      <td>Toomey Rd @ South Lamar</td>\n",
       "      <td>30</td>\n",
       "    </tr>\n",
       "  </tbody>\n",
       "</table>\n",
       "</div>"
      ],
      "text/plain": [
       "      trip_id                     subscriber_type bikeid  \\\n",
       "0  9900285908  Annual Membership (Austin B-cycle)    400   \n",
       "1  9900289692                             Walk Up    248   \n",
       "2  9900285987      24-Hour Kiosk (Austin B-cycle)    446   \n",
       "3  9900285989      24-Hour Kiosk (Austin B-cycle)    203   \n",
       "4  9900285991      24-Hour Kiosk (Austin B-cycle)    101   \n",
       "\n",
       "                start_time  start_station_id  \\\n",
       "0  2014-10-26 14:12:00 UTC            2823.0   \n",
       "1  2015-10-02 21:12:01 UTC            1006.0   \n",
       "2  2014-10-26 15:12:00 UTC            2712.0   \n",
       "3  2014-10-26 15:12:00 UTC            2712.0   \n",
       "4  2014-10-26 15:12:00 UTC            2712.0   \n",
       "\n",
       "                        start_station_name end_station_id  \\\n",
       "0  Capital Metro HQ - East 5th at Broadway           2544   \n",
       "1                         Zilker Park West           1008   \n",
       "2                  Toomey Rd @ South Lamar           2712   \n",
       "3                  Toomey Rd @ South Lamar           2712   \n",
       "4                  Toomey Rd @ South Lamar           2712   \n",
       "\n",
       "            end_station_name  duration_minutes  \n",
       "0  East 6th & Pedernales St.                10  \n",
       "1               Nueces @ 3rd                39  \n",
       "2    Toomey Rd @ South Lamar                31  \n",
       "3    Toomey Rd @ South Lamar                31  \n",
       "4    Toomey Rd @ South Lamar                30  "
      ]
     },
     "execution_count": 28,
     "metadata": {},
     "output_type": "execute_result"
    }
   ],
   "source": [
    "trips = pd.read_csv(\"data/bikeshare_trips.csv\")\n",
    "print(trips.shape)\n",
    "trips.head()"
   ]
  },
  {
   "attachments": {},
   "cell_type": "markdown",
   "metadata": {
    "collapsed": false
   },
   "source": [
    "# Data celaning\n",
    "## Cleaning null values"
   ]
  },
  {
   "cell_type": "code",
   "execution_count": 29,
   "metadata": {},
   "outputs": [],
   "source": [
    "import pandas as pd\n",
    "import seaborn as sns\n",
    "import matplotlib.pyplot as plt"
   ]
  },
  {
   "attachments": {},
   "cell_type": "markdown",
   "metadata": {},
   "source": [
    "### Trips dataset"
   ]
  },
  {
   "cell_type": "code",
   "execution_count": 33,
   "metadata": {},
   "outputs": [
    {
     "data": {
      "text/plain": [
       "<Figure size 1000x600 with 0 Axes>"
      ]
     },
     "metadata": {},
     "output_type": "display_data"
    },
    {
     "data": {
      "image/png": "[encoded data removed]",
      "text/plain": [
       "<Figure size 709.875x500 with 1 Axes>"
      ]
     },
     "metadata": {},
     "output_type": "display_data"
    }
   ],
   "source": [
    "# Ploting the missing data in the trips dataset\n",
    "\n",
    "plt.figure(figsize=(10,6))\n",
    "sns.displot(\n",
    "    data=trips.isna().melt(value_name=\"missing\"),\n",
    "    y=\"variable\",\n",
    "    hue=\"missing\",\n",
    "    multiple=\"fill\",\n",
    "    aspect=1.25\n",
    ")\n",
    "plt.title(\"Visualizing missing data in Trips dataset\")\n",
    "plt.savefig(\"visualizing_missing_Trips.png\", dpi=100)"
   ]
  },
  {
   "cell_type": "code",
   "execution_count": 31,
   "metadata": {},
   "outputs": [
    {
     "name": "stdout",
     "output_type": "stream",
     "text": [
      "trip_id               0.000000\n",
      "subscriber_type       0.339825\n",
      "bikeid                0.037402\n",
      "start_time            0.000000\n",
      "start_station_id      1.199449\n",
      "start_station_name    0.000000\n",
      "end_station_id        2.638311\n",
      "end_station_name      0.000000\n",
      "duration_minutes      0.000000\n",
      "dtype: float64\n",
      "0\n"
     ]
    }
   ],
   "source": [
    "# Calculate the percentage of null values in each column\n",
    "null_percent = trips.isnull().sum() / len(trips) * 100\n",
    "print(null_percent)\n",
    "\n",
    "# Print the number of columns with more than 70% null values\n",
    "num_cols_null_percent_100 = (null_percent > 70).sum()\n",
    "print(num_cols_null_percent_100)"
   ]
  },
  {
   "cell_type": "code",
   "execution_count": 36,
   "metadata": {},
   "outputs": [],
   "source": [
    "# Loop through each column and drop it if there are more than 50% null values,\n",
    "# or fill in the null values with the column mean if there are less than 50%\n",
    "null_percent = trips.isnull().sum() / len(trips) * 100\n",
    "for col in trips.columns:\n",
    "    if null_percent[col] > 50:\n",
    "        trips.drop(col, axis=1, inplace=True)\n",
    "    elif null_percent[col] > 0:\n",
    "        trips[col] = trips[col].fillna('')"
   ]
  },
  {
   "cell_type": "code",
   "execution_count": 40,
   "metadata": {},
   "outputs": [
    {
     "data": {
      "text/plain": [
       "trip_id               0\n",
       "subscriber_type       0\n",
       "bikeid                0\n",
       "start_time            0\n",
       "start_station_id      0\n",
       "start_station_name    0\n",
       "end_station_id        0\n",
       "end_station_name      0\n",
       "duration_minutes      0\n",
       "dtype: int64"
      ]
     },
     "execution_count": 40,
     "metadata": {},
     "output_type": "execute_result"
    }
   ],
   "source": [
    "# Checking for missing values after cleaning\n",
    "trips.isnull().sum()"
   ]
  },
  {
   "cell_type": "markdown",
   "metadata": {},
   "source": [
    "### Stations dataset"
   ]
  },
  {
   "cell_type": "code",
   "execution_count": 34,
   "metadata": {},
   "outputs": [
    {
     "data": {
      "text/plain": [
       "<Figure size 1000x600 with 0 Axes>"
      ]
     },
     "metadata": {},
     "output_type": "display_data"
    },
    {
     "data": {
      "image/png": "[encoded data removed]",
      "text/plain": [
       "<Figure size 709.875x500 with 1 Axes>"
      ]
     },
     "metadata": {},
     "output_type": "display_data"
    }
   ],
   "source": [
    "# Ploting the missing data in the stations dataset\n",
    "plt.figure(figsize=(10,6))\n",
    "sns.displot(\n",
    "    data=stations.isna().melt(value_name=\"missing\"),\n",
    "    y=\"variable\",\n",
    "    hue=\"missing\",\n",
    "    multiple=\"fill\",\n",
    "    aspect=1.25\n",
    ")\n",
    "plt.title(\"Visualizing missing data in stations dataset\")\n",
    "plt.savefig(\"visualizing_missing_Stations.png\", dpi=100)"
   ]
  },
  {
   "cell_type": "code",
   "execution_count": 35,
   "metadata": {},
   "outputs": [
    {
     "name": "stdout",
     "output_type": "stream",
     "text": [
      "station_id            0.000000\n",
      "name                  0.000000\n",
      "status                0.000000\n",
      "address               0.980392\n",
      "alternate_name       98.039216\n",
      "city_asset_number    24.509804\n",
      "property_type        17.647059\n",
      "number_of_docks      19.607843\n",
      "power_type           17.647059\n",
      "footprint_length     22.549020\n",
      "footprint_width      22.549020\n",
      "notes                68.627451\n",
      "council_district      0.000000\n",
      "modified_date         0.000000\n",
      "dtype: float64\n",
      "2\n"
     ]
    }
   ],
   "source": [
    "# Calculate the percentage of null values in each column\n",
    "null_percent = stations.isnull().sum() / len(stations) * 100\n",
    "print(null_percent)\n",
    "\n",
    "# Print the number of columns with more than N null values\n",
    "num_cols_null_percent_100 = (null_percent > 50).sum()\n",
    "print(num_cols_null_percent_100)"
   ]
  },
  {
   "cell_type": "code",
   "execution_count": 37,
   "metadata": {},
   "outputs": [],
   "source": [
    "# Loop through each column and drop it if there are more than 50% null values,\n",
    "# or fill in the null values with the column mean if there are less than 50%\n",
    "null_percent = stations.isnull().sum() / len(stations) * 100\n",
    "for col in stations.columns:\n",
    "    if null_percent[col] > 50:\n",
    "        stations.drop(col, axis=1, inplace=True)\n",
    "    elif null_percent[col] > 0:\n",
    "        stations[col] = stations[col].fillna('')"
   ]
  },
  {
   "cell_type": "code",
   "execution_count": 38,
   "metadata": {},
   "outputs": [
    {
     "data": {
      "text/plain": [
       "station_id           0\n",
       "name                 0\n",
       "status               0\n",
       "address              0\n",
       "city_asset_number    0\n",
       "property_type        0\n",
       "number_of_docks      0\n",
       "power_type           0\n",
       "footprint_length     0\n",
       "footprint_width      0\n",
       "council_district     0\n",
       "modified_date        0\n",
       "dtype: int64"
      ]
     },
     "execution_count": 38,
     "metadata": {},
     "output_type": "execute_result"
    }
   ],
   "source": [
    "# Checking for missing values after cleaning\n",
    "stations.isnull().sum()"
   ]
  },
  {
   "cell_type": "code",
   "execution_count": null,
   "metadata": {},
   "outputs": [],
   "source": []
  }
 ],
 "metadata": {
  "kernelspec": {
   "display_name": "Python 3",
   "language": "python",
   "name": "python3"
  },
  "language_info": {
   "codemirror_mode": {
    "name": "ipython",
    "version": 3
   },
   "file_extension": ".py",
   "mimetype": "text/x-python",
   "name": "python",
   "nbconvert_exporter": "python",
   "pygments_lexer": "ipython3",
   "version": "3.10.11"
  }
 },
 "nbformat": 4,
 "nbformat_minor": 0
}
